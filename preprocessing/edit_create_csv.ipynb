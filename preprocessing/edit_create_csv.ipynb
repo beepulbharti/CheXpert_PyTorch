{
 "cells": [
  {
   "cell_type": "markdown",
   "metadata": {},
   "source": [
    "Simple Notebook to create a modified version of the original CheXpert CSV"
   ]
  },
  {
   "cell_type": "code",
   "execution_count": 1,
   "metadata": {},
   "outputs": [],
   "source": [
    "# Importing necessary packages\n",
    "import sys\n",
    "import pandas as pd \n",
    "import numpy as np\n",
    "import os\n",
    "import torch\n",
    "from sklearn.model_selection import train_test_split\n",
    "sys.path.append('/cis/home/bbharti1/projects/CheXpert_PyTorch/')\n",
    "from utils import get_base_rates\n",
    "import matplotlib.pyplot as plt"
   ]
  },
  {
   "cell_type": "code",
   "execution_count": 2,
   "metadata": {},
   "outputs": [],
   "source": [
    "# Set root dir\n",
    "root_dir = sys.path[-1]"
   ]
  },
  {
   "cell_type": "code",
   "execution_count": 3,
   "metadata": {},
   "outputs": [],
   "source": [
    "# Load csv and show the head\n",
    "csv_path = 'train.csv'\n",
    "org_df = pd.read_csv(csv_path)\n",
    "file_heads = [os.path.split(os.path.split(org_df['Path'][i])[0])[0] for i in range(len(org_df['Path']))]\n",
    "\n",
    "# Add column to dataframe\n",
    "org_df.insert(0,'Patient_ID_path',file_heads)"
   ]
  },
  {
   "cell_type": "code",
   "execution_count": 4,
   "metadata": {},
   "outputs": [
    {
     "name": "stdout",
     "output_type": "stream",
     "text": [
      "Number of images =  223414\n",
      "Number of patients =  64540\n",
      "Number of frontal images =  191027\n",
      "Number of lateral images =  32387\n"
     ]
    }
   ],
   "source": [
    "# Basic statistics of original dataset\n",
    "print('Number of images = ', len(org_df))\n",
    "print('Number of patients = ', len(org_df['Patient_ID_path'].unique()))\n",
    "print('Number of frontal images = ', np.sum(org_df['Frontal/Lateral'] == 'Frontal'))\n",
    "print('Number of lateral images = ', np.sum(org_df['Frontal/Lateral'] == 'Lateral'))"
   ]
  },
  {
   "cell_type": "code",
   "execution_count": 5,
   "metadata": {},
   "outputs": [
    {
     "name": "stdout",
     "output_type": "stream",
     "text": [
      "Remaining number of images =  191026\n"
     ]
    }
   ],
   "source": [
    "# Replace all -1 and NaN with 0 \n",
    "new_df = org_df.copy(deep=True)\n",
    "new_df = new_df.replace(-1,0)\n",
    "new_df = new_df.replace(np.nan,0)\n",
    "\n",
    "# Male = 1 and Female = 0\n",
    "new_df = new_df.replace('Male',1)\n",
    "new_df = new_df.replace('Female',0)\n",
    "new_df = new_df.drop(new_df[new_df['Sex'] == 'Unknown'].index)\n",
    "new_df['Sex'] = new_df['Sex'].astype('uint8')\n",
    "\n",
    "# Remove unnecessary columns: (Only using Frontal images)\n",
    "new_df = new_df.drop(new_df[new_df['Frontal/Lateral'] == 'Lateral'].index)\n",
    "new_df = new_df.drop(columns=['Age','Frontal/Lateral','AP/PA'])\n",
    "\n",
    "# Remaining number of patients and images\n",
    "print('Remaining number of images = ', len(new_df))\n",
    "# print('Remaining number of patients = ', len(new_df['Patient_ID_path'].unique()))"
   ]
  },
  {
   "cell_type": "code",
   "execution_count": 24,
   "metadata": {},
   "outputs": [],
   "source": [
    "# Split csv into csvs for classifier and sex classifier\n",
    "a = new_df['Sex']\n",
    "d1, sex_data = train_test_split(new_df,test_size=0.2,stratify=new_df['Sex'],random_state=10)\n",
    "\n",
    "# Grouping all conditions and adding column\n",
    "conditions = ['Enlarged Cardiomediastinum', 'Cardiomegaly', 'Lung Opacity', 'Lung Lesion', 'Edema',\n",
    "              'Consolidation', 'Pneumonia','Atelectasis','Pneumothorax','Pleural Effusion','Pleural Other','Fracture']\n",
    "grouped_cond = np.array(np.sum(d1[conditions],axis=1))\n",
    "grouped_cond[grouped_cond > 0] = 1\n",
    "d1['grouped_condition'] = grouped_cond\n",
    "conditions = ['Enlarged Cardiomediastinum', 'Cardiomegaly', 'Lung Opacity', 'Lung Lesion', 'Edema',\n",
    "              'Consolidation', 'Pneumonia','Atelectasis','Pneumothorax','Pleural Effusion','Pleural Other','Fracture',\n",
    "              'grouped_condition']"
   ]
  },
  {
   "cell_type": "code",
   "execution_count": 25,
   "metadata": {},
   "outputs": [],
   "source": [
    "# List of competition conditions\n",
    "a = d1['Sex'].values\n",
    "for condition in conditions:\n",
    "    # Create all necessary training and validation csvs\n",
    "\n",
    "    # Get 4 base rates\n",
    "    # Getting base rates by condition\n",
    "    y = d1[condition].values\n",
    "    return_dict = True\n",
    "    rates,list = get_base_rates(y,a,return_dict)\n",
    "\n",
    "    # Add group to dataframe\n",
    "    df = pd.concat([d1.iloc[:,0:3],d1[condition]],axis=1)\n",
    "    df['group'] = list\n",
    "\n",
    "    # Create training and test sets\n",
    "    df_train, df_test = train_test_split(df,test_size=0.2,stratify=df['group'],random_state=10)\n",
    "\n",
    "    # Create CSVs\n",
    "    train_file_name = os.path.join(root_dir,'csvs','train','train_' + condition + '.csv')\n",
    "    df_train.to_csv(train_file_name,index=False)\n",
    "    test_file_name = os.path.join(root_dir,'csvs','test','test_' + condition + '.csv')\n",
    "    df_train.to_csv(test_file_name,index=False)"
   ]
  },
  {
   "cell_type": "code",
   "execution_count": 16,
   "metadata": {},
   "outputs": [],
   "source": [
    "# Create new csvs\n",
    "# d1.to_csv('model_train.csv',index=False)\n",
    "# Create new csvs\n",
    "sex_data.to_csv(os.path.join(root_dir,'csvs','sex_model_train.csv'),index=False)"
   ]
  }
 ],
 "metadata": {
  "kernelspec": {
   "display_name": "Python 3.10.4 ('cuda102')",
   "language": "python",
   "name": "python3"
  },
  "language_info": {
   "codemirror_mode": {
    "name": "ipython",
    "version": 3
   },
   "file_extension": ".py",
   "mimetype": "text/x-python",
   "name": "python",
   "nbconvert_exporter": "python",
   "pygments_lexer": "ipython3",
   "version": "3.10.4"
  },
  "orig_nbformat": 4,
  "vscode": {
   "interpreter": {
    "hash": "3480f17d4fb79fd692b6ed7a9ca0948306936357486d7718056d429d227b38c3"
   }
  }
 },
 "nbformat": 4,
 "nbformat_minor": 2
}
