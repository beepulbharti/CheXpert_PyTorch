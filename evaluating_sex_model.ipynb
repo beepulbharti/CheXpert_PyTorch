{
 "cells": [
  {
   "cell_type": "code",
   "execution_count": 1,
   "metadata": {},
   "outputs": [],
   "source": [
    "# Import necessary packages\n",
    "import torch\n",
    "import numpy as np\n",
    "from dataset import Chexpert_dataset\n",
    "import os\n",
    "from torchvision.models import densenet121, DenseNet121_Weights\n",
    "import torch.nn as nn\n",
    "from torchvision import transforms\n",
    "from torch.utils.data import DataLoader, Subset\n",
    "from tqdm import tqdm"
   ]
  },
  {
   "cell_type": "code",
   "execution_count": 2,
   "metadata": {},
   "outputs": [],
   "source": [
    "# Enable GPU use\n",
    "os.environ['CUDE_VISIBLE_DEVICES'] = '0'\n",
    "device = torch.device(\"cuda:0\" if torch.cuda.is_available() else \"mps\")"
   ]
  },
  {
   "cell_type": "code",
   "execution_count": 3,
   "metadata": {},
   "outputs": [],
   "source": [
    "# Get model\n",
    "sex_model = densenet121(weights = DenseNet121_Weights.DEFAULT)\n",
    "\n",
    "# Fix last layer of densenet to reflect number of classes\n",
    "input_num = sex_model.classifier.in_features\n",
    "sex_model.classifier = nn.Linear(input_num,1)\n",
    "\n",
    "# Load pre-trained model\n",
    "sex_model.load_state_dict(\n",
    "    torch.load(os.path.join('pretrained_sex_model', \"model.pt\"), map_location=device)\n",
    ")\n",
    "sex_model = sex_model.to(device)"
   ]
  },
  {
   "cell_type": "code",
   "execution_count": 4,
   "metadata": {},
   "outputs": [
    {
     "ename": "TypeError",
     "evalue": "string indices must be integers",
     "output_type": "error",
     "traceback": [
      "\u001b[0;31m---------------------------------------------------------------------------\u001b[0m",
      "\u001b[0;31mTypeError\u001b[0m                                 Traceback (most recent call last)",
      "\u001b[1;32m/cis/home/bbharti1/projects/CheXpert_PyTorch/evaluating_sex_model.ipynb Cell 4\u001b[0m in \u001b[0;36m<cell line: 14>\u001b[0;34m()\u001b[0m\n\u001b[1;32m     <a href='vscode-notebook-cell://ssh-remote%2Bgaon/cis/home/bbharti1/projects/CheXpert_PyTorch/evaluating_sex_model.ipynb#ch0000003vscode-remote?line=11'>12</a>\u001b[0m columns \u001b[39m=\u001b[39m [\u001b[39m'\u001b[39m\u001b[39mSex\u001b[39m\u001b[39m'\u001b[39m]\n\u001b[1;32m     <a href='vscode-notebook-cell://ssh-remote%2Bgaon/cis/home/bbharti1/projects/CheXpert_PyTorch/evaluating_sex_model.ipynb#ch0000003vscode-remote?line=12'>13</a>\u001b[0m transform \u001b[39m=\u001b[39m transforms\u001b[39m.\u001b[39mResize((\u001b[39m320\u001b[39m,\u001b[39m320\u001b[39m))\n\u001b[0;32m---> <a href='vscode-notebook-cell://ssh-remote%2Bgaon/cis/home/bbharti1/projects/CheXpert_PyTorch/evaluating_sex_model.ipynb#ch0000003vscode-remote?line=13'>14</a>\u001b[0m all_data \u001b[39m=\u001b[39m Chexpert_dataset(path_to_csv,root_dir_gaon,columns,transform \u001b[39m=\u001b[39;49m transform)\n",
      "File \u001b[0;32m~/projects/CheXpert_PyTorch/dataset.py:15\u001b[0m, in \u001b[0;36mChexpert_dataset.__init__\u001b[0;34m(self, df, root_dir, columns, transform)\u001b[0m\n\u001b[1;32m     13\u001b[0m \u001b[39mself\u001b[39m\u001b[39m.\u001b[39mdf \u001b[39m=\u001b[39m df\n\u001b[1;32m     14\u001b[0m \u001b[39m# self.csv = pd.read_csv(path_to_csv,low_memory=False)\u001b[39;00m\n\u001b[0;32m---> 15\u001b[0m \u001b[39mself\u001b[39m\u001b[39m.\u001b[39mlabels \u001b[39m=\u001b[39m \u001b[39mself\u001b[39;49m\u001b[39m.\u001b[39;49mdf[columns]\u001b[39m.\u001b[39mvalues\n\u001b[1;32m     16\u001b[0m \u001b[39mself\u001b[39m\u001b[39m.\u001b[39mgroup \u001b[39m=\u001b[39m \u001b[39mself\u001b[39m\u001b[39m.\u001b[39mdf[\u001b[39m'\u001b[39m\u001b[39mSex\u001b[39m\u001b[39m'\u001b[39m]\u001b[39m.\u001b[39mvalues\n\u001b[1;32m     17\u001b[0m \u001b[39mself\u001b[39m\u001b[39m.\u001b[39mroot_dir \u001b[39m=\u001b[39m root_dir\n",
      "\u001b[0;31mTypeError\u001b[0m: string indices must be integers"
     ]
    }
   ],
   "source": [
    "# Set in evaluation mode\n",
    "sex_model.eval()\n",
    "\n",
    "# Load data\n",
    "# Set parameters to load training dataset\n",
    "path_to_csv = 'model_train.csv'\n",
    "\n",
    "# Root dir (needs to be changed depending on if I am using remote or gaon)\n",
    "root_dir_gaon = '/export/gaon1/data/bbharti1'\n",
    "\n",
    "# Additional specifications\n",
    "columns = ['Sex']\n",
    "transform = transforms.Resize((320,320))\n",
    "all_data = Chexpert_dataset(path_to_csv,root_dir_gaon,columns,transform = transform)"
   ]
  },
  {
   "cell_type": "code",
   "execution_count": 85,
   "metadata": {},
   "outputs": [],
   "source": [
    "# Evaluate model\n",
    "# indices = np.arange(0,7000)\n",
    "# sub_data = Subset(all_data,indices)\n",
    "dataloader = DataLoader(all_data, batch_size=16, shuffle=False)\n",
    "running_val_acc = 0"
   ]
  },
  {
   "cell_type": "code",
   "execution_count": 86,
   "metadata": {},
   "outputs": [
    {
     "name": "stderr",
     "output_type": "stream",
     "text": [
      "100%|██████████| 9552/9552 [11:06<00:00, 14.33it/s]\n"
     ]
    }
   ],
   "source": [
    "for i, data in enumerate(tqdm(dataloader)):\n",
    "    image, label, image_paths = data\n",
    "    image = image.to(device)\n",
    "    label = label.to(device)\n",
    "\n",
    "    output = sex_model(image)\n",
    "    output = torch.sigmoid(output)\n",
    "    val_batch_acc = torch.sum((output >=0.5) == label)/len(label)\n",
    "    running_val_acc += val_batch_acc"
   ]
  },
  {
   "cell_type": "code",
   "execution_count": 79,
   "metadata": {},
   "outputs": [
    {
     "data": {
      "text/plain": [
       "tensor(0.9944, device='cuda:0')"
      ]
     },
     "execution_count": 79,
     "metadata": {},
     "output_type": "execute_result"
    }
   ],
   "source": [
    "running_val_acc/len(dataloader)"
   ]
  }
 ],
 "metadata": {
  "kernelspec": {
   "display_name": "Python 3.10.4 ('cuda102')",
   "language": "python",
   "name": "python3"
  },
  "language_info": {
   "codemirror_mode": {
    "name": "ipython",
    "version": 3
   },
   "file_extension": ".py",
   "mimetype": "text/x-python",
   "name": "python",
   "nbconvert_exporter": "python",
   "pygments_lexer": "ipython3",
   "version": "3.10.4"
  },
  "orig_nbformat": 4,
  "vscode": {
   "interpreter": {
    "hash": "3480f17d4fb79fd692b6ed7a9ca0948306936357486d7718056d429d227b38c3"
   }
  }
 },
 "nbformat": 4,
 "nbformat_minor": 2
}
