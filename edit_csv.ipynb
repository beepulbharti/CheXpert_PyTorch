{
 "cells": [
  {
   "cell_type": "markdown",
   "metadata": {},
   "source": [
    "Simple Notebook to create a modified version of the original CheXpert CSV"
   ]
  },
  {
   "cell_type": "code",
   "execution_count": 37,
   "metadata": {},
   "outputs": [],
   "source": [
    "# Importing necessary packages\n",
    "import pandas as pd \n",
    "import numpy as np\n",
    "import os\n",
    "import torch"
   ]
  },
  {
   "cell_type": "code",
   "execution_count": 38,
   "metadata": {},
   "outputs": [],
   "source": [
    "# Load csv and show the head\n",
    "csv_path = 'train.csv'\n",
    "org_df = pd.read_csv(csv_path)\n",
    "file_heads = [os.path.split(os.path.split(org_df['Path'][i])[0])[0] for i in range(len(org_df['Path']))]\n",
    "\n",
    "# Add column to dataframe\n",
    "org_df.insert(0,'Patient_ID_path',file_heads)"
   ]
  },
  {
   "cell_type": "code",
   "execution_count": 43,
   "metadata": {},
   "outputs": [
    {
     "name": "stdout",
     "output_type": "stream",
     "text": [
      "Number of images =  223414\n",
      "Number of patients =  64540\n",
      "Number of frontal images =  191027\n",
      "Number of lateral images =  32387\n"
     ]
    }
   ],
   "source": [
    "# Basic statistics of original dataset\n",
    "print('Number of images = ', len(org_df))\n",
    "print('Number of patients = ', len(org_df['Patient_ID_path'].unique()))\n",
    "print('Number of frontal images = ', np.sum(org_df['Frontal/Lateral'] == 'Frontal'))\n",
    "print('Number of lateral images = ', np.sum(org_df['Frontal/Lateral'] == 'Lateral'))"
   ]
  },
  {
   "cell_type": "code",
   "execution_count": 44,
   "metadata": {},
   "outputs": [
    {
     "name": "stdout",
     "output_type": "stream",
     "text": [
      "Remaining number of images =  191026\n",
      "Remaining number of patients =  64533\n"
     ]
    }
   ],
   "source": [
    "# Replace all -1 and NaN with 0 \n",
    "new_df = org_df.copy(deep=True)\n",
    "new_df = new_df.replace(-1,0)\n",
    "new_df = new_df.replace(np.nan,0)\n",
    "\n",
    "# Male = 1 and Female = 0\n",
    "new_df = new_df.replace('Male',1)\n",
    "new_df = new_df.replace('Female',0)\n",
    "new_df = new_df.drop(new_df[new_df['Sex'] == 'Unknown'].index)\n",
    "new_df['Sex'] = new_df['Sex'].astype('uint8')\n",
    "\n",
    "# Remove unnecessary columns: (Only using Frontal images)\n",
    "new_df = new_df.drop(new_df[new_df['Frontal/Lateral'] == 'Lateral'].index)\n",
    "new_df = new_df.drop(columns=['Age','Frontal/Lateral','AP/PA'])\n",
    "\n",
    "# Remaining number of patients and images\n",
    "print('Remaining number of images = ', len(new_df))\n",
    "print('Remaining number of patients = ', len(new_df['Patient_ID_path'].unique()))"
   ]
  },
  {
   "cell_type": "code",
   "execution_count": 171,
   "metadata": {},
   "outputs": [],
   "source": [
    "# Create new csv\n",
    "new_df.to_csv('updated_train.csv',index=False)"
   ]
  }
 ],
 "metadata": {
  "kernelspec": {
   "display_name": "Python 3.10.4 ('cuda102')",
   "language": "python",
   "name": "python3"
  },
  "language_info": {
   "codemirror_mode": {
    "name": "ipython",
    "version": 3
   },
   "file_extension": ".py",
   "mimetype": "text/x-python",
   "name": "python",
   "nbconvert_exporter": "python",
   "pygments_lexer": "ipython3",
   "version": "3.10.4"
  },
  "orig_nbformat": 4,
  "vscode": {
   "interpreter": {
    "hash": "3480f17d4fb79fd692b6ed7a9ca0948306936357486d7718056d429d227b38c3"
   }
  }
 },
 "nbformat": 4,
 "nbformat_minor": 2
}
