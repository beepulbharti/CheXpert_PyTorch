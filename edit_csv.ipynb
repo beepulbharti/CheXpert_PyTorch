{
 "cells": [
  {
   "cell_type": "markdown",
   "metadata": {},
   "source": [
    "Simple Notebook to create a modified version of the original CheXpert CSV"
   ]
  },
  {
   "cell_type": "code",
   "execution_count": 172,
   "metadata": {},
   "outputs": [],
   "source": [
    "# Importing necessary packages\n",
    "import pandas as pd \n",
    "import numpy as np\n",
    "import os\n",
    "import torch"
   ]
  },
  {
   "cell_type": "code",
   "execution_count": 173,
   "metadata": {},
   "outputs": [],
   "source": [
    "# Load csv and show the head\n",
    "csv_path = '/Users/beepulbharti/Desktop/CheXpert-v1.0-small/train.csv'\n",
    "org_df = pd.read_csv(csv_path)"
   ]
  },
  {
   "cell_type": "code",
   "execution_count": 174,
   "metadata": {},
   "outputs": [],
   "source": [
    "# Replace all -1 and NaN with 0 \n",
    "new_df = org_df.copy(deep=True)\n",
    "new_df = new_df.replace(-1,0)\n",
    "new_df = new_df.replace(np.nan,0)\n",
    "\n",
    "# Male = 1 and Female = 0\n",
    "new_df = new_df.replace('Male',1)\n",
    "new_df = new_df.replace('Female',0)\n",
    "new_df = new_df.drop(new_df[new_df['Sex'] == 'Unknown'].index)\n",
    "new_df['Sex'] = new_df['Sex'].astype('uint8')\n",
    "\n",
    "# Remove unnecessary columns\n",
    "new_df = new_df.drop(new_df[new_df['Frontal/Lateral'] == 'Lateral'].index)\n",
    "new_df = new_df.drop(columns=['Age','Frontal/Lateral','AP/PA'])"
   ]
  },
  {
   "cell_type": "code",
   "execution_count": 171,
   "metadata": {},
   "outputs": [],
   "source": [
    "# Create new csv\n",
    "new_df.to_csv('train.csv',index=False)"
   ]
  }
 ],
 "metadata": {
  "kernelspec": {
   "display_name": "Python 3.10.4 ('pytorchm1')",
   "language": "python",
   "name": "python3"
  },
  "language_info": {
   "codemirror_mode": {
    "name": "ipython",
    "version": 3
   },
   "file_extension": ".py",
   "mimetype": "text/x-python",
   "name": "python",
   "nbconvert_exporter": "python",
   "pygments_lexer": "ipython3",
   "version": "3.10.4"
  },
  "orig_nbformat": 4,
  "vscode": {
   "interpreter": {
    "hash": "2ce14df45b79305498123a7be5d546a5d39775fef98f36468c4bda3bda0e165f"
   }
  }
 },
 "nbformat": 4,
 "nbformat_minor": 2
}
