{
 "cells": [
  {
   "cell_type": "code",
   "execution_count": 1,
   "metadata": {},
   "outputs": [],
   "source": [
    "# Create demo data that is unfair\n",
    "import pandas as pd\n",
    "import numpy as np\n",
    "from balancers import BinaryBalancer\n",
    "from sklearn.metrics import confusion_matrix\n",
    "import matplotlib.pyplot as plt\n",
    "import os"
   ]
  },
  {
   "cell_type": "code",
   "execution_count": 10,
   "metadata": {},
   "outputs": [
    {
     "data": {
      "text/html": [
       "<div>\n",
       "<style scoped>\n",
       "    .dataframe tbody tr th:only-of-type {\n",
       "        vertical-align: middle;\n",
       "    }\n",
       "\n",
       "    .dataframe tbody tr th {\n",
       "        vertical-align: top;\n",
       "    }\n",
       "\n",
       "    .dataframe thead th {\n",
       "        text-align: right;\n",
       "    }\n",
       "</style>\n",
       "<table border=\"1\" class=\"dataframe\">\n",
       "  <thead>\n",
       "    <tr style=\"text-align: right;\">\n",
       "      <th></th>\n",
       "      <th>Patient_ID_path</th>\n",
       "      <th>Path</th>\n",
       "      <th>a</th>\n",
       "      <th>y</th>\n",
       "      <th>group</th>\n",
       "      <th>a_hat</th>\n",
       "      <th>y_prob</th>\n",
       "    </tr>\n",
       "  </thead>\n",
       "  <tbody>\n",
       "    <tr>\n",
       "      <th>0</th>\n",
       "      <td>CheXpert-v1.0-small/train/patient41749</td>\n",
       "      <td>CheXpert-v1.0-small/train/patient41749/study1/...</td>\n",
       "      <td>0</td>\n",
       "      <td>0.0</td>\n",
       "      <td>4.0</td>\n",
       "      <td>0.0</td>\n",
       "      <td>0.089551</td>\n",
       "    </tr>\n",
       "    <tr>\n",
       "      <th>1</th>\n",
       "      <td>CheXpert-v1.0-small/train/patient16335</td>\n",
       "      <td>CheXpert-v1.0-small/train/patient16335/study1/...</td>\n",
       "      <td>1</td>\n",
       "      <td>0.0</td>\n",
       "      <td>3.0</td>\n",
       "      <td>1.0</td>\n",
       "      <td>0.022290</td>\n",
       "    </tr>\n",
       "    <tr>\n",
       "      <th>2</th>\n",
       "      <td>CheXpert-v1.0-small/train/patient38104</td>\n",
       "      <td>CheXpert-v1.0-small/train/patient38104/study1/...</td>\n",
       "      <td>1</td>\n",
       "      <td>0.0</td>\n",
       "      <td>3.0</td>\n",
       "      <td>1.0</td>\n",
       "      <td>0.037238</td>\n",
       "    </tr>\n",
       "    <tr>\n",
       "      <th>3</th>\n",
       "      <td>CheXpert-v1.0-small/train/patient27324</td>\n",
       "      <td>CheXpert-v1.0-small/train/patient27324/study2/...</td>\n",
       "      <td>0</td>\n",
       "      <td>0.0</td>\n",
       "      <td>4.0</td>\n",
       "      <td>0.0</td>\n",
       "      <td>0.048384</td>\n",
       "    </tr>\n",
       "    <tr>\n",
       "      <th>4</th>\n",
       "      <td>CheXpert-v1.0-small/train/patient10812</td>\n",
       "      <td>CheXpert-v1.0-small/train/patient10812/study4/...</td>\n",
       "      <td>1</td>\n",
       "      <td>0.0</td>\n",
       "      <td>3.0</td>\n",
       "      <td>1.0</td>\n",
       "      <td>0.019310</td>\n",
       "    </tr>\n",
       "  </tbody>\n",
       "</table>\n",
       "</div>"
      ],
      "text/plain": [
       "                          Patient_ID_path  \\\n",
       "0  CheXpert-v1.0-small/train/patient41749   \n",
       "1  CheXpert-v1.0-small/train/patient16335   \n",
       "2  CheXpert-v1.0-small/train/patient38104   \n",
       "3  CheXpert-v1.0-small/train/patient27324   \n",
       "4  CheXpert-v1.0-small/train/patient10812   \n",
       "\n",
       "                                                Path  a    y  group  a_hat  \\\n",
       "0  CheXpert-v1.0-small/train/patient41749/study1/...  0  0.0    4.0    0.0   \n",
       "1  CheXpert-v1.0-small/train/patient16335/study1/...  1  0.0    3.0    1.0   \n",
       "2  CheXpert-v1.0-small/train/patient38104/study1/...  1  0.0    3.0    1.0   \n",
       "3  CheXpert-v1.0-small/train/patient27324/study2/...  0  0.0    4.0    0.0   \n",
       "4  CheXpert-v1.0-small/train/patient10812/study4/...  1  0.0    3.0    1.0   \n",
       "\n",
       "     y_prob  \n",
       "0  0.089551  \n",
       "1  0.022290  \n",
       "2  0.037238  \n",
       "3  0.048384  \n",
       "4  0.019310  "
      ]
     },
     "execution_count": 10,
     "metadata": {},
     "output_type": "execute_result"
    }
   ],
   "source": [
    "# Load results \n",
    "data = pd.read_csv('csvs/results/results_Cardiomegaly.csv',index_col=[0])\n",
    "data = data.rename(columns={\"Sex\": \"a\", 'Cardiomegaly': \"y\"})\n",
    "data.head()"
   ]
  },
  {
   "cell_type": "code",
   "execution_count": 11,
   "metadata": {},
   "outputs": [],
   "source": [
    "# Plot ROC curve and identify best threshold for J-statistic\n",
    "y = data['y'].values\n",
    "y_prob = data.y_prob.values\n",
    "tpr = []\n",
    "fpr = []\n",
    "thresholds = np.linspace(0,1,101)\n",
    "for t in thresholds:\n",
    "    y_hat = (y_prob >= t)\n",
    "    tn, fp, fn, tp = confusion_matrix(y,y_hat).ravel()\n",
    "    tpr.append(tp/(tp + fn))\n",
    "    fpr.append(fp/(fp + tn))"
   ]
  },
  {
   "cell_type": "code",
   "execution_count": 12,
   "metadata": {},
   "outputs": [
    {
     "name": "stdout",
     "output_type": "stream",
     "text": [
      "Best t =  0.13\n"
     ]
    },
    {
     "data": {
      "image/png": "[encoded data removed]",
      "text/plain": [
       "<Figure size 432x288 with 1 Axes>"
      ]
     },
     "metadata": {
      "needs_background": "light"
     },
     "output_type": "display_data"
    }
   ],
   "source": [
    "# Plot ROC\n",
    "tpr = np.array(tpr)\n",
    "fpr = np.array(fpr)\n",
    "plt.plot(thresholds,tpr-fpr)\n",
    "plt.xlabel('Thresholds')\n",
    "plt.ylabel('J-statistic')\n",
    "max_index = np.argmax(tpr-fpr)\n",
    "opt_t = thresholds[max_index]\n",
    "print('Best t = ', opt_t)"
   ]
  },
  {
   "cell_type": "code",
   "execution_count": 13,
   "metadata": {},
   "outputs": [
    {
     "data": {
      "text/html": [
       "<div>\n",
       "<style scoped>\n",
       "    .dataframe tbody tr th:only-of-type {\n",
       "        vertical-align: middle;\n",
       "    }\n",
       "\n",
       "    .dataframe tbody tr th {\n",
       "        vertical-align: top;\n",
       "    }\n",
       "\n",
       "    .dataframe thead th {\n",
       "        text-align: right;\n",
       "    }\n",
       "</style>\n",
       "<table border=\"1\" class=\"dataframe\">\n",
       "  <thead>\n",
       "    <tr style=\"text-align: right;\">\n",
       "      <th></th>\n",
       "      <th>Patient_ID_path</th>\n",
       "      <th>Path</th>\n",
       "      <th>a</th>\n",
       "      <th>y</th>\n",
       "      <th>group</th>\n",
       "      <th>a_hat</th>\n",
       "      <th>y_prob</th>\n",
       "      <th>y_hat</th>\n",
       "    </tr>\n",
       "  </thead>\n",
       "  <tbody>\n",
       "    <tr>\n",
       "      <th>0</th>\n",
       "      <td>CheXpert-v1.0-small/train/patient41749</td>\n",
       "      <td>CheXpert-v1.0-small/train/patient41749/study1/...</td>\n",
       "      <td>0</td>\n",
       "      <td>0.0</td>\n",
       "      <td>4.0</td>\n",
       "      <td>0.0</td>\n",
       "      <td>0.089551</td>\n",
       "      <td>0.0</td>\n",
       "    </tr>\n",
       "    <tr>\n",
       "      <th>1</th>\n",
       "      <td>CheXpert-v1.0-small/train/patient16335</td>\n",
       "      <td>CheXpert-v1.0-small/train/patient16335/study1/...</td>\n",
       "      <td>1</td>\n",
       "      <td>0.0</td>\n",
       "      <td>3.0</td>\n",
       "      <td>1.0</td>\n",
       "      <td>0.022290</td>\n",
       "      <td>0.0</td>\n",
       "    </tr>\n",
       "    <tr>\n",
       "      <th>2</th>\n",
       "      <td>CheXpert-v1.0-small/train/patient38104</td>\n",
       "      <td>CheXpert-v1.0-small/train/patient38104/study1/...</td>\n",
       "      <td>1</td>\n",
       "      <td>0.0</td>\n",
       "      <td>3.0</td>\n",
       "      <td>1.0</td>\n",
       "      <td>0.037238</td>\n",
       "      <td>0.0</td>\n",
       "    </tr>\n",
       "    <tr>\n",
       "      <th>3</th>\n",
       "      <td>CheXpert-v1.0-small/train/patient27324</td>\n",
       "      <td>CheXpert-v1.0-small/train/patient27324/study2/...</td>\n",
       "      <td>0</td>\n",
       "      <td>0.0</td>\n",
       "      <td>4.0</td>\n",
       "      <td>0.0</td>\n",
       "      <td>0.048384</td>\n",
       "      <td>0.0</td>\n",
       "    </tr>\n",
       "    <tr>\n",
       "      <th>4</th>\n",
       "      <td>CheXpert-v1.0-small/train/patient10812</td>\n",
       "      <td>CheXpert-v1.0-small/train/patient10812/study4/...</td>\n",
       "      <td>1</td>\n",
       "      <td>0.0</td>\n",
       "      <td>3.0</td>\n",
       "      <td>1.0</td>\n",
       "      <td>0.019310</td>\n",
       "      <td>0.0</td>\n",
       "    </tr>\n",
       "  </tbody>\n",
       "</table>\n",
       "</div>"
      ],
      "text/plain": [
       "                          Patient_ID_path  \\\n",
       "0  CheXpert-v1.0-small/train/patient41749   \n",
       "1  CheXpert-v1.0-small/train/patient16335   \n",
       "2  CheXpert-v1.0-small/train/patient38104   \n",
       "3  CheXpert-v1.0-small/train/patient27324   \n",
       "4  CheXpert-v1.0-small/train/patient10812   \n",
       "\n",
       "                                                Path  a    y  group  a_hat  \\\n",
       "0  CheXpert-v1.0-small/train/patient41749/study1/...  0  0.0    4.0    0.0   \n",
       "1  CheXpert-v1.0-small/train/patient16335/study1/...  1  0.0    3.0    1.0   \n",
       "2  CheXpert-v1.0-small/train/patient38104/study1/...  1  0.0    3.0    1.0   \n",
       "3  CheXpert-v1.0-small/train/patient27324/study2/...  0  0.0    4.0    0.0   \n",
       "4  CheXpert-v1.0-small/train/patient10812/study4/...  1  0.0    3.0    1.0   \n",
       "\n",
       "     y_prob  y_hat  \n",
       "0  0.089551    0.0  \n",
       "1  0.022290    0.0  \n",
       "2  0.037238    0.0  \n",
       "3  0.048384    0.0  \n",
       "4  0.019310    0.0  "
      ]
     },
     "execution_count": 13,
     "metadata": {},
     "output_type": "execute_result"
    }
   ],
   "source": [
    "# Make unfair predictions\n",
    "y = data.y.values\n",
    "a = data.a.values\n",
    "y_prob = data.y_prob.values.copy()\n",
    "ind_1 = np.where(a==1)\n",
    "ind_0 = np.where(a==0)\n",
    "y_prob[ind_1] = (y_prob[ind_1] >= 0.1)\n",
    "y_prob[ind_0] = (y_prob[ind_0] >= opt_t)\n",
    "data['y_hat'] = y_prob\n",
    "data.head()"
   ]
  },
  {
   "cell_type": "code",
   "execution_count": 14,
   "metadata": {},
   "outputs": [],
   "source": [
    "# Get patient IDs\n",
    "id = []\n",
    "for i in range(len(data)):\n",
    "    id.append(os.path.split(data.Patient_ID_path.values[i])[1])"
   ]
  },
  {
   "cell_type": "code",
   "execution_count": 23,
   "metadata": {},
   "outputs": [
    {
     "data": {
      "text/html": [
       "<div>\n",
       "<style scoped>\n",
       "    .dataframe tbody tr th:only-of-type {\n",
       "        vertical-align: middle;\n",
       "    }\n",
       "\n",
       "    .dataframe tbody tr th {\n",
       "        vertical-align: top;\n",
       "    }\n",
       "\n",
       "    .dataframe thead th {\n",
       "        text-align: right;\n",
       "    }\n",
       "</style>\n",
       "<table border=\"1\" class=\"dataframe\">\n",
       "  <thead>\n",
       "    <tr style=\"text-align: right;\">\n",
       "      <th></th>\n",
       "      <th>patient_id</th>\n",
       "      <th>a</th>\n",
       "      <th>y</th>\n",
       "      <th>y_hat</th>\n",
       "      <th>group</th>\n",
       "    </tr>\n",
       "  </thead>\n",
       "  <tbody>\n",
       "    <tr>\n",
       "      <th>0</th>\n",
       "      <td>patient41749</td>\n",
       "      <td>0</td>\n",
       "      <td>0.0</td>\n",
       "      <td>0.0</td>\n",
       "      <td>4.0</td>\n",
       "    </tr>\n",
       "    <tr>\n",
       "      <th>1</th>\n",
       "      <td>patient16335</td>\n",
       "      <td>1</td>\n",
       "      <td>0.0</td>\n",
       "      <td>0.0</td>\n",
       "      <td>3.0</td>\n",
       "    </tr>\n",
       "    <tr>\n",
       "      <th>2</th>\n",
       "      <td>patient38104</td>\n",
       "      <td>1</td>\n",
       "      <td>0.0</td>\n",
       "      <td>0.0</td>\n",
       "      <td>3.0</td>\n",
       "    </tr>\n",
       "    <tr>\n",
       "      <th>3</th>\n",
       "      <td>patient27324</td>\n",
       "      <td>0</td>\n",
       "      <td>0.0</td>\n",
       "      <td>0.0</td>\n",
       "      <td>4.0</td>\n",
       "    </tr>\n",
       "    <tr>\n",
       "      <th>4</th>\n",
       "      <td>patient10812</td>\n",
       "      <td>1</td>\n",
       "      <td>0.0</td>\n",
       "      <td>0.0</td>\n",
       "      <td>3.0</td>\n",
       "    </tr>\n",
       "  </tbody>\n",
       "</table>\n",
       "</div>"
      ],
      "text/plain": [
       "     patient_id  a    y  y_hat  group\n",
       "0  patient41749  0  0.0    0.0    4.0\n",
       "1  patient16335  1  0.0    0.0    3.0\n",
       "2  patient38104  1  0.0    0.0    3.0\n",
       "3  patient27324  0  0.0    0.0    4.0\n",
       "4  patient10812  1  0.0    0.0    3.0"
      ]
     },
     "execution_count": 23,
     "metadata": {},
     "output_type": "execute_result"
    }
   ],
   "source": [
    "# Reorganize data\n",
    "data = data[['a','y','y_hat','group']]\n",
    "data['patient_id'] = id\n",
    "data = data[['patient_id','a','y','y_hat','group']]\n",
    "data.head()"
   ]
  },
  {
   "cell_type": "code",
   "execution_count": null,
   "metadata": {},
   "outputs": [],
   "source": [
    "# Save demo data\n",
    "from sklearn.model_selection import train_test_split\n",
    "val_data, test_data = train_test_split(data,test_size=0.8,stratify = data['group'])\n",
    "val_data = val_data.reset_index()\n",
    "val_data = val_data[['patient_id','a','y','y_hat']]\n",
    "test_data = test_data.reset_index()\n",
    "test_data = test_data[['patient_id','a','y','y_hat']]\n",
    "val_data.to_csv('csvs/results/demo_validation_data' + '.csv')\n",
    "test_data.to_csv('csvs/results/demo_test_data' + '.csv')"
   ]
  },
  {
   "cell_type": "code",
   "execution_count": 58,
   "metadata": {},
   "outputs": [
    {
     "name": "stdout",
     "output_type": "stream",
     "text": [
      "\n",
      "Pre-adjustment group rates are \n",
      "\n",
      " group    fpr    tpr\n",
      "   0.0 0.2583 0.7433\n",
      "   1.0 0.3392 0.8342\n",
      "\n",
      "And loss is 0.2927\n",
      "\n",
      "\n",
      "Post-adjustment group rates are \n",
      "\n",
      " group    fpr    tpr\n",
      "   0.0 0.3097 0.7589\n",
      "   1.0 0.3098 0.7584\n",
      "\n",
      "And loss is 0.3014\n",
      "\n"
     ]
    },
    {
     "data": {
      "image/png": "[encoded data removed]",
      "text/plain": [
       "<Figure size 432x288 with 1 Axes>"
      ]
     },
     "metadata": {},
     "output_type": "display_data"
    }
   ],
   "source": [
    "# Check group-wise TPRs and FPRs\n",
    "y = data.y.values\n",
    "y_hat = data.y_hat.values\n",
    "a = data.a.values\n",
    "clf = BinaryBalancer(y=y,y_=y_hat,a=a)\n",
    "clf.adjust()\n",
    "clf.plot(shade_hull=False)"
   ]
  },
  {
   "cell_type": "code",
   "execution_count": null,
   "metadata": {},
   "outputs": [],
   "source": []
  }
 ],
 "metadata": {
  "kernelspec": {
   "display_name": "Python 3.10.4 ('cuda102')",
   "language": "python",
   "name": "python3"
  },
  "language_info": {
   "codemirror_mode": {
    "name": "ipython",
    "version": 3
   },
   "file_extension": ".py",
   "mimetype": "text/x-python",
   "name": "python",
   "nbconvert_exporter": "python",
   "pygments_lexer": "ipython3",
   "version": "3.10.4"
  },
  "orig_nbformat": 4,
  "vscode": {
   "interpreter": {
    "hash": "3480f17d4fb79fd692b6ed7a9ca0948306936357486d7718056d429d227b38c3"
   }
  }
 },
 "nbformat": 4,
 "nbformat_minor": 2
}
