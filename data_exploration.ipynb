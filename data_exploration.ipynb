{
 "cells": [
  {
   "cell_type": "code",
   "execution_count": 2,
   "metadata": {},
   "outputs": [],
   "source": [
    "# Importing necessary packages\n",
    "import numpy as np\n",
    "import pandas as pd\n",
    "from dataset import Chexpert_dataset\n",
    "from torchvision import transforms\n",
    "from sklearn.model_selection import StratifiedKFold\n",
    "from utils import get_splits"
   ]
  },
  {
   "cell_type": "code",
   "execution_count": 44,
   "metadata": {},
   "outputs": [],
   "source": [
    "# Learning how to split data appropriately \n",
    "path_to_csv = 'updated_train.csv'\n",
    "root_dir = '/Users/beepulbharti/Desktop'\n",
    "root_dir_gaon = '/export/gaon1/data/bbharti1'\n",
    "df = pd.read_csv(path_to_csv)"
   ]
  },
  {
   "cell_type": "code",
   "execution_count": 45,
   "metadata": {},
   "outputs": [
    {
     "name": "stdout",
     "output_type": "stream",
     "text": [
      "Number of groups =  2344\n"
     ]
    }
   ],
   "source": [
    "# Seeing number of groups over 15 classes \n",
    "class_df = df.copy(deep=True)\n",
    "class_df = class_df.drop(['Patient_ID_path','Path'],axis = 1)\n",
    "num_groups = class_df.drop_duplicates().shape[0]\n",
    "print('Number of groups = ', num_groups)\n",
    "unique_rows = class_df.drop_duplicates()"
   ]
  },
  {
   "cell_type": "code",
   "execution_count": 52,
   "metadata": {},
   "outputs": [],
   "source": [
    "vec = 0\n",
    "for i in range(num_groups):\n",
    "    vec += (((class_df == unique_rows.iloc[i]).sum(axis=1) == 15)*(i+1))"
   ]
  },
  {
   "cell_type": "code",
   "execution_count": 66,
   "metadata": {},
   "outputs": [],
   "source": [
    "from sklearn.model_selection import StratifiedKFold\n",
    "n_splits = 10\n",
    "group = class_df['group']\n",
    "x_ind = np.linspace(0,len(class_df)-1,len(class_df)).astype('int')\n",
    "skf = StratifiedKFold(n_splits=n_splits)\n",
    "split_indices = skf.split(x_ind,group)"
   ]
  }
 ],
 "metadata": {
  "kernelspec": {
   "display_name": "Python 3.10.4 ('cuda102')",
   "language": "python",
   "name": "python3"
  },
  "language_info": {
   "codemirror_mode": {
    "name": "ipython",
    "version": 3
   },
   "file_extension": ".py",
   "mimetype": "text/x-python",
   "name": "python",
   "nbconvert_exporter": "python",
   "pygments_lexer": "ipython3",
   "version": "3.10.4"
  },
  "orig_nbformat": 4,
  "vscode": {
   "interpreter": {
    "hash": "3480f17d4fb79fd692b6ed7a9ca0948306936357486d7718056d429d227b38c3"
   }
  }
 },
 "nbformat": 4,
 "nbformat_minor": 2
}
