{
 "cells": [
  {
   "cell_type": "code",
   "execution_count": 53,
   "metadata": {},
   "outputs": [],
   "source": [
    "# Importing necessary packages\n",
    "import numpy as np\n",
    "import pandas as pd\n",
    "from dataset import Chexpert_dataset\n",
    "from torchvision import transforms\n",
    "from sklearn.model_selection import StratifiedKFold\n",
    "from utils import get_splits"
   ]
  },
  {
   "cell_type": "code",
   "execution_count": 54,
   "metadata": {},
   "outputs": [],
   "source": [
    "# Learning how to split data appropriately \n",
    "path_to_csv = 'train.csv'\n",
    "columns = ['Sex','Cardiomegaly']\n",
    "root_dir = '/Users/beepulbharti/Desktop'\n",
    "transform = transforms.Resize(320)\n",
    "data = Chexpert_dataset(path_to_csv, root_dir, columns=columns, transform=transform)"
   ]
  },
  {
   "cell_type": "code",
   "execution_count": 56,
   "metadata": {},
   "outputs": [
    {
     "name": "stdout",
     "output_type": "stream",
     "text": [
      "Number of train samples =  127350\n",
      "Number of val samples =  63676\n",
      "Number of train samples =  127351\n",
      "Number of val samples =  63675\n",
      "Number of train samples =  127351\n",
      "Number of val samples =  63675\n"
     ]
    }
   ],
   "source": [
    "splitter = get_splits(data,3)\n",
    "for train_ind, val_ind in splitter:\n",
    "    print('Number of train samples = ',len(train_ind))\n",
    "    print('Number of val samples = ',len(val_ind))"
   ]
  }
 ],
 "metadata": {
  "kernelspec": {
   "display_name": "Python 3.10.4 ('pytorchm1')",
   "language": "python",
   "name": "python3"
  },
  "language_info": {
   "codemirror_mode": {
    "name": "ipython",
    "version": 3
   },
   "file_extension": ".py",
   "mimetype": "text/x-python",
   "name": "python",
   "nbconvert_exporter": "python",
   "pygments_lexer": "ipython3",
   "version": "3.10.4"
  },
  "orig_nbformat": 4,
  "vscode": {
   "interpreter": {
    "hash": "2ce14df45b79305498123a7be5d546a5d39775fef98f36468c4bda3bda0e165f"
   }
  }
 },
 "nbformat": 4,
 "nbformat_minor": 2
}
