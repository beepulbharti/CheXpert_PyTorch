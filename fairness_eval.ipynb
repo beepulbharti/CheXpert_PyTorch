{
 "cells": [
  {
   "cell_type": "code",
   "execution_count": 84,
   "metadata": {},
   "outputs": [],
   "source": [
    "# Import necessary packages\n",
    "import torch\n",
    "import numpy as np\n",
    "from dataset import Chexpert_dataset\n",
    "import os\n",
    "from torchvision.models import densenet121, DenseNet121_Weights\n",
    "import torch.nn as nn\n",
    "from torchvision import transforms\n",
    "from torch.utils.data import DataLoader\n",
    "from tqdm import tqdm\n",
    "import pandas as pd\n",
    "import numpy as np\n",
    "from sklearn.metrics import roc_curve\n",
    "import matplotlib.pyplot as plt\n",
    "from balancers import BinaryBalancer\n",
    "from utils import calculate_bias_metrics, eo_postprocess, calc_gen_bounds\n",
    "from tqdm import tqdm\n",
    "import seaborn as sns\n",
    "sns.set_theme()"
   ]
  },
  {
   "cell_type": "code",
   "execution_count": 85,
   "metadata": {},
   "outputs": [
    {
     "name": "stdout",
     "output_type": "stream",
     "text": [
      "Number of samples =  38205\n"
     ]
    }
   ],
   "source": [
    "# Load results\n",
    "df = pd.read_csv('results_Atelectasis.csv',index_col=[0])\n",
    "print('Number of samples = ', len(df))"
   ]
  },
  {
   "cell_type": "code",
   "execution_count": 71,
   "metadata": {},
   "outputs": [
    {
     "name": "stderr",
     "output_type": "stream",
     "text": [
      "100%|██████████| 38205/38205 [01:55<00:00, 330.94it/s]"
     ]
    },
    {
     "name": "stdout",
     "output_type": "stream",
     "text": [
      "min rate =  0.06284517733280984\n"
     ]
    },
    {
     "name": "stderr",
     "output_type": "stream",
     "text": [
      "\n"
     ]
    }
   ],
   "source": [
    "# Create new column to stratify data and calculate base rates\n",
    "group = []\n",
    "for i in tqdm(range(df.shape[0])):\n",
    "    # w\n",
    "    if np.sum(df[['a','y']].iloc[i] == [0,0]) == 2:\n",
    "        group.append(1)\n",
    "    # v\n",
    "    if np.sum(df[['a','y']].iloc[i] == [1,0]) == 2:\n",
    "        group.append(2)\n",
    "    # s\n",
    "    if np.sum(df[['a','y']].iloc[i] == [0,1]) == 2:\n",
    "        group.append(3)\n",
    "    # r\n",
    "    if np.sum(df[['a','y']].iloc[i] == [1,1]) == 2:\n",
    "        group.append(4)\n",
    "\n",
    "# Add column to the data\n",
    "df['group'] = group\n",
    "\n",
    "# Calculate base rates\n",
    "total = df.shape[0]\n",
    "r = np.sum(df['group'] == 4)/total\n",
    "s = np.sum(df['group'] == 3)/total\n",
    "v = np.sum(df['group'] == 2)/total\n",
    "w= np.sum(df['group'] == 1)/total\n",
    "print('min rate = ', min(r,s,w,v))"
   ]
  },
  {
   "cell_type": "code",
   "execution_count": 87,
   "metadata": {},
   "outputs": [],
   "source": [
    "# Change column names \n",
    "df = df.rename(columns={'Paths': 'Path','a': 'Sex','y': 'Cardiomegaly'})"
   ]
  },
  {
   "cell_type": "code",
   "execution_count": 88,
   "metadata": {},
   "outputs": [],
   "source": [
    "# Enable GPU use\n",
    "os.environ['CUDE_VISIBLE_DEVICES'] = '0'\n",
    "device = torch.device(\"cuda:0\" if torch.cuda.is_available() else \"mps\")\n",
    "\n",
    "# Get model\n",
    "sex_model = densenet121(weights = DenseNet121_Weights.DEFAULT)\n",
    "\n",
    "# Fix last layer of densenet to reflect number of classes\n",
    "input_num = sex_model.classifier.in_features\n",
    "sex_model.classifier = nn.Linear(input_num,1)\n",
    "\n",
    "# Load pre-trained model\n",
    "sex_model.load_state_dict(\n",
    "    torch.load(os.path.join('pretrained_sex_model', \"model.pt\"), map_location=device)\n",
    ")\n",
    "sex_model = sex_model.to(device)"
   ]
  },
  {
   "cell_type": "code",
   "execution_count": 89,
   "metadata": {},
   "outputs": [],
   "source": [
    "# Set in evaluation mode\n",
    "sex_model.eval()\n",
    "\n",
    "# Root dir (needs to be changed depending on if I am using remote or gaon)\n",
    "root_dir_gaon = '/export/gaon1/data/bbharti1'\n",
    "\n",
    "# Additional specifications\n",
    "columns = ['Sex']\n",
    "transform = transforms.Resize((320,320))\n",
    "all_data = Chexpert_dataset(df,root_dir_gaon,columns,transform = transform)"
   ]
  },
  {
   "cell_type": "code",
   "execution_count": 90,
   "metadata": {},
   "outputs": [],
   "source": [
    "# Evaluate model\n",
    "# indices = np.arange(0,7000)\n",
    "# sub_data = Subset(all_data,indices)\n",
    "dataloader = DataLoader(all_data, batch_size=16, shuffle=False)"
   ]
  },
  {
   "cell_type": "code",
   "execution_count": 91,
   "metadata": {},
   "outputs": [
    {
     "name": "stderr",
     "output_type": "stream",
     "text": [
      "100%|██████████| 2388/2388 [02:28<00:00, 16.05it/s]\n"
     ]
    }
   ],
   "source": [
    "a_probs_list = []\n",
    "torch.set_grad_enabled(False)\n",
    "for i, data in enumerate(tqdm(dataloader)):\n",
    "    image, label, image_paths = data\n",
    "    image = image.to(device)\n",
    "    label = label.to(device)\n",
    "\n",
    "    output = sex_model(image)\n",
    "    output = torch.sigmoid(output)\n",
    "    a_probs_list.append(output)\n",
    "a_probs = torch.cat(a_probs_list).cpu().ravel()"
   ]
  },
  {
   "cell_type": "code",
   "execution_count": 93,
   "metadata": {},
   "outputs": [
    {
     "name": "stdout",
     "output_type": "stream",
     "text": [
      "a_hat error =  0.005130218557780395\n"
     ]
    }
   ],
   "source": [
    "a_hat = (a_probs >=0.5)\n",
    "a_hat = a_hat.cpu().numpy().astype('float')\n",
    "U = np.sum(a_hat != df.Sex.values)/len(a_hat)\n",
    "print('a_hat error = ', U)"
   ]
  },
  {
   "cell_type": "code",
   "execution_count": 105,
   "metadata": {},
   "outputs": [],
   "source": [
    "# Load results\n",
    "df = pd.read_csv('results_Atelectasis.csv',index_col=[0])\n",
    "df['y_hat'] = df['y_probs']\n",
    "# Change column names \n",
    "df = df.rename(columns={'y_probs': 'y_prob'})\n",
    "y = df.y.values\n",
    "y_ = df.y_prob.values\n",
    "a = df.a.values\n",
    "# add a_hat\n",
    "df['a_hat'] = a_hat"
   ]
  },
  {
   "cell_type": "code",
   "execution_count": 110,
   "metadata": {},
   "outputs": [
    {
     "name": "stderr",
     "output_type": "stream",
     "text": [
      "100%|██████████| 100/100 [00:12<00:00,  8.02it/s]\n"
     ]
    }
   ],
   "source": [
    "B = 100\n",
    "bias_tpr = []\n",
    "post_bias_tpr = []\n",
    "upper_bound = []\n",
    "lower_bound = []\n",
    "post_upper_bound = []\n",
    "post_lower_bound = []\n",
    "for i in tqdm(range(B)):\n",
    "    # Bootstrapping\n",
    "    df_sample = df.sample(n=1000,replace=True)\n",
    "    alpha,beta,tau,phi = calculate_bias_metrics(df_sample)\n",
    "    bias_tpr.append(alpha-beta)\n",
    "    df_a_hat = df_sample.copy(deep=True)\n",
    "    df_a_hat['a'] = df_sample['a']\n",
    "    alpha_hat,beta_hat,tau_hat,phi_hat = calculate_bias_metrics(df_a_hat)\n",
    "    ub, lb = calc_gen_bounds(alpha_hat,beta_hat,U,r,s)\n",
    "    upper_bound.append(ub)\n",
    "    lower_bound.append(lb)\n",
    "\n",
    "    # Post process\n",
    "    _, fair_model = eo_postprocess(df_a_hat)\n",
    "    y_fair = fair_model.predict(df_a_hat.y_prob.values,df_a_hat.a.values)\n",
    "    df_fair = df_a_hat.copy(deep=True)\n",
    "    df_fair['y_hat'] = y_fair\n",
    "    # Calculate post bias_tpr\n",
    "    alpha,beta,tau,phi = calculate_bias_metrics(df_fair)\n",
    "    post_bias_tpr.append(alpha-beta)\n",
    "    ub, lb = calc_gen_bounds(alpha,beta,U,r,s)\n",
    "    post_upper_bound.append(ub)\n",
    "    post_lower_bound.append(lb)"
   ]
  },
  {
   "cell_type": "code",
   "execution_count": 108,
   "metadata": {},
   "outputs": [
    {
     "data": {
      "text/plain": [
       "<matplotlib.legend.Legend at 0x7fc908d6ffd0>"
      ]
     },
     "execution_count": 108,
     "metadata": {},
     "output_type": "execute_result"
    },
    {
     "data": {
      "image/png": "[encoded data removed]",
      "text/plain": [
       "<Figure size 432x288 with 1 Axes>"
      ]
     },
     "metadata": {},
     "output_type": "display_data"
    }
   ],
   "source": [
    "max_bound_pre = np.maximum(np.abs(upper_bound),np.abs(lower_bound))\n",
    "max_bound_post = np.maximum(np.abs(post_upper_bound),np.abs(post_lower_bound))\n",
    "sns.kdeplot(max_bound_pre,shade=True,cut=0,label = '$TPR_{m}$')\n",
    "sns.kdeplot(np.abs(bias_tpr),shade=True,cut=0,label = r'$|bias_{TPR}(f)|$', color = 'black')\n",
    "sns.kdeplot(max_bound_post,shade=True,cut=0,label = r'$\\widetilde{TPR}_{m}$', color = 'red')\n",
    "sns.kdeplot(np.abs(post_bias_tpr),shade=True,cut=0,label = r'$|bias_{TPR}(\\tilde{f})|$',color='black')\n",
    "plt.legend()"
   ]
  },
  {
   "cell_type": "code",
   "execution_count": 39,
   "metadata": {},
   "outputs": [
    {
     "data": {
      "text/plain": [
       "<matplotlib.legend.Legend at 0x7fc9e4de0a00>"
      ]
     },
     "execution_count": 39,
     "metadata": {},
     "output_type": "execute_result"
    },
    {
     "data": {
      "image/png": "[encoded data removed]",
      "text/plain": [
       "<Figure size 432x288 with 1 Axes>"
      ]
     },
     "metadata": {
      "needs_background": "light"
     },
     "output_type": "display_data"
    }
   ],
   "source": [
    "max_bound_pre = np.maximum(np.abs(upper_bound),np.abs(lower_bound))\n",
    "max_bound_post = np.maximum(np.abs(post_upper_bound),np.abs(post_lower_bound))\n",
    "sns.kdeplot(max_bound_pre,shade=True,cut=0,label = '$TPR_{m}$')\n",
    "sns.kdeplot(np.abs(bias_tpr),shade=True,cut=0,label = r'$|bias_{TPR}(f)|$', color = 'black')\n",
    "sns.kdeplot(max_bound_post,shade=True,cut=0,label = r'$\\widetilde{TPR}_{m}$', color = 'red')\n",
    "sns.kdeplot(np.abs(post_bias_tpr),shade=True,cut=0,label = r'$|bias_{TPR}(\\tilde{f})|$',color='black')\n",
    "plt.legend()"
   ]
  }
 ],
 "metadata": {
  "kernelspec": {
   "display_name": "Python 3.10.4 ('cuda102')",
   "language": "python",
   "name": "python3"
  },
  "language_info": {
   "codemirror_mode": {
    "name": "ipython",
    "version": 3
   },
   "file_extension": ".py",
   "mimetype": "text/x-python",
   "name": "python",
   "nbconvert_exporter": "python",
   "pygments_lexer": "ipython3",
   "version": "3.10.4"
  },
  "orig_nbformat": 4,
  "vscode": {
   "interpreter": {
    "hash": "3480f17d4fb79fd692b6ed7a9ca0948306936357486d7718056d429d227b38c3"
   }
  }
 },
 "nbformat": 4,
 "nbformat_minor": 2
}
