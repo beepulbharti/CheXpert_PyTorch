{
 "cells": [
  {
   "cell_type": "code",
   "execution_count": 17,
   "metadata": {},
   "outputs": [],
   "source": [
    "# Import necessary packages\n",
    "import torch\n",
    "import numpy as np\n",
    "from dataset import Chexpert_dataset\n",
    "import os\n",
    "from torchvision.models import densenet121, DenseNet121_Weights\n",
    "import torch.nn as nn\n",
    "from torchvision import transforms\n",
    "from torch.utils.data import DataLoader\n",
    "from tqdm import tqdm\n",
    "import pandas as pd\n",
    "import numpy as np\n",
    "from sklearn.metrics import roc_curve, confusion_matrix\n",
    "from sklearn.model_selection import train_test_split\n",
    "import matplotlib.pyplot as plt\n",
    "from balancers import BinaryBalancer\n",
    "from utils import calculate_bias_metrics, eo_postprocess, calc_gen_bounds, get_base_rates\n",
    "from tqdm import tqdm\n",
    "import seaborn as sns\n",
    "sns.set_theme()"
   ]
  },
  {
   "cell_type": "code",
   "execution_count": 19,
   "metadata": {},
   "outputs": [
    {
     "name": "stdout",
     "output_type": "stream",
     "text": [
      "Number of samples =  122256\n"
     ]
    }
   ],
   "source": [
    "# Load test csv\n",
    "condition = ['grouped_condition']\n",
    "path_to_csv = 'csvs/test/test_' + condition[0] + '.csv'\n",
    "test_df = pd.read_csv(path_to_csv)\n",
    "print('Number of samples = ', len(test_df))"
   ]
  },
  {
   "cell_type": "code",
   "execution_count": 109,
   "metadata": {},
   "outputs": [
    {
     "data": {
      "text/plain": [
       "{'r': 0.49746433712864807,\n",
       " 's': 0.34558631069231777,\n",
       " 'v': 0.08963159272346552,\n",
       " 'w': 0.06731775945556864}"
      ]
     },
     "execution_count": 109,
     "metadata": {},
     "output_type": "execute_result"
    }
   ],
   "source": [
    "# Get base rates \n",
    "y = test_df[condition[0]]\n",
    "a = test_df['Sex']\n",
    "return_dict = True\n",
    "rates,list = get_base_rates(y,a,return_dict)\n",
    "rates"
   ]
  },
  {
   "cell_type": "code",
   "execution_count": 110,
   "metadata": {},
   "outputs": [
    {
     "data": {
      "text/plain": [
       "0.8430506478209658"
      ]
     },
     "execution_count": 110,
     "metadata": {},
     "output_type": "execute_result"
    }
   ],
   "source": [
    "np.sum(y)/len(y)"
   ]
  },
  {
   "cell_type": "code",
   "execution_count": 108,
   "metadata": {},
   "outputs": [
    {
     "data": {
      "text/plain": [
       "0.5862016315490992"
      ]
     },
     "execution_count": 108,
     "metadata": {},
     "output_type": "execute_result"
    }
   ],
   "source": [
    "np.sum(a)/len(a)"
   ]
  },
  {
   "cell_type": "code",
   "execution_count": 21,
   "metadata": {},
   "outputs": [],
   "source": [
    "# Enable GPU use\n",
    "os.environ['CUDE_VISIBLE_DEVICES'] = '0'\n",
    "device = torch.device(\"cuda:0\" if torch.cuda.is_available() else \"mps\")\n",
    "\n",
    "# Get model\n",
    "sex_model = densenet121(weights = DenseNet121_Weights.DEFAULT)\n",
    "\n",
    "# Fix last layer of densenet to reflect number of classes\n",
    "input_num = sex_model.classifier.in_features\n",
    "sex_model.classifier = nn.Linear(input_num,1)\n",
    "\n",
    "# Load pre-trained model\n",
    "sex_model.load_state_dict(\n",
    "    torch.load(os.path.join('pretrained_sex_model', \"model.pt\"), map_location=device)\n",
    ")\n",
    "sex_model = sex_model.to(device)"
   ]
  },
  {
   "cell_type": "code",
   "execution_count": 22,
   "metadata": {},
   "outputs": [
    {
     "name": "stderr",
     "output_type": "stream",
     "text": [
      "100%|██████████| 7641/7641 [07:47<00:00, 16.35it/s]\n"
     ]
    },
    {
     "name": "stdout",
     "output_type": "stream",
     "text": [
      "a_hat error =  0.02290276141866248\n"
     ]
    }
   ],
   "source": [
    "# Set in evaluation mode\n",
    "sex_model.eval()\n",
    "\n",
    "# Root dir (needs to be changed depending on if I am using remote or gaon)\n",
    "root_dir_gaon = '/export/gaon1/data/bbharti1'\n",
    "\n",
    "# Additional specifications\n",
    "columns = ['Sex']\n",
    "transform = transforms.Resize((320,320))\n",
    "all_data = Chexpert_dataset(test_df,root_dir_gaon,columns,transform = transform)\n",
    "\n",
    "# Evaluate model\n",
    "# indices = np.arange(0,7000)\n",
    "# sub_data = Subset(all_data,indices)\n",
    "dataloader = DataLoader(all_data, batch_size=16, shuffle=False)\n",
    "a_probs_list = []\n",
    "torch.set_grad_enabled(False)\n",
    "for i, data in enumerate(tqdm(dataloader)):\n",
    "    image, label, image_paths = data\n",
    "    image = image.to(device)\n",
    "    label = label.to(device)\n",
    "    output = sex_model(image)\n",
    "    output = torch.sigmoid(output)\n",
    "    a_probs_list.append(output)\n",
    "a_probs = torch.cat(a_probs_list).cpu().ravel()\n",
    "a_hat = (a_probs >=0.5)\n",
    "a_hat = a_hat.cpu().numpy().astype('float')\n",
    "U = np.sum(a_hat != test_df.Sex.values)/len(a_hat)\n",
    "print('a_hat error = ', U)"
   ]
  },
  {
   "cell_type": "code",
   "execution_count": 23,
   "metadata": {},
   "outputs": [],
   "source": [
    "# Evaluate classifier on f\n",
    "model = densenet121(weights = DenseNet121_Weights.DEFAULT)\n",
    "\n",
    "# Fix last layer of densenet to reflect number of classes\n",
    "input_num = model.classifier.in_features\n",
    "model.classifier = nn.Linear(input_num,1)\n",
    "\n",
    "# Load pre-trained model\n",
    "model.load_state_dict(\n",
    "    torch.load(os.path.join('pretrained_classifier', condition[0] + '_model.pt'), map_location=device)\n",
    ")\n",
    "model = model.to(device)"
   ]
  },
  {
   "cell_type": "code",
   "execution_count": 24,
   "metadata": {},
   "outputs": [
    {
     "name": "stderr",
     "output_type": "stream",
     "text": [
      "100%|██████████| 7641/7641 [08:24<00:00, 15.14it/s]\n"
     ]
    }
   ],
   "source": [
    "# Create test set\n",
    "columns = condition\n",
    "test_set = Chexpert_dataset(test_df,root_dir_gaon,columns,transform=transform)\n",
    "test_loader = DataLoader(test_set, batch_size=16, shuffle=False)\n",
    "y_probs_list = []\n",
    "torch.set_grad_enabled(False)\n",
    "for i, data in enumerate(tqdm(test_loader)):\n",
    "    image, label, image_paths = data\n",
    "    image = image.to(device)\n",
    "    label = label.to(device)\n",
    "    output = model(image)\n",
    "    output = torch.sigmoid(output)\n",
    "    y_probs_list.append(output)\n",
    "y_probs = torch.cat(y_probs_list).cpu().ravel()\n",
    "y_probs = y_probs.detach().numpy()\n",
    "y = test_df[condition].values.ravel()"
   ]
  },
  {
   "cell_type": "code",
   "execution_count": 43,
   "metadata": {},
   "outputs": [],
   "source": [
    "# Add a_hat and y_prob columns to dataframe\n",
    "test_df['a_hat'] = a_hat\n",
    "test_df['y_prob'] = y_probs\n",
    "test_df.head()\n",
    "test_df.to_csv('csvs/results/results_' + condition[0] + '.csv')"
   ]
  },
  {
   "cell_type": "code",
   "execution_count": 144,
   "metadata": {},
   "outputs": [
    {
     "data": {
      "text/html": [
       "<div>\n",
       "<style scoped>\n",
       "    .dataframe tbody tr th:only-of-type {\n",
       "        vertical-align: middle;\n",
       "    }\n",
       "\n",
       "    .dataframe tbody tr th {\n",
       "        vertical-align: top;\n",
       "    }\n",
       "\n",
       "    .dataframe thead th {\n",
       "        text-align: right;\n",
       "    }\n",
       "</style>\n",
       "<table border=\"1\" class=\"dataframe\">\n",
       "  <thead>\n",
       "    <tr style=\"text-align: right;\">\n",
       "      <th></th>\n",
       "      <th>Patient_ID_path</th>\n",
       "      <th>Path</th>\n",
       "      <th>Sex</th>\n",
       "      <th>Pleural Effusion</th>\n",
       "      <th>group</th>\n",
       "      <th>a_hat</th>\n",
       "      <th>y_prob</th>\n",
       "    </tr>\n",
       "  </thead>\n",
       "  <tbody>\n",
       "    <tr>\n",
       "      <th>0</th>\n",
       "      <td>CheXpert-v1.0-small/train/patient58318</td>\n",
       "      <td>CheXpert-v1.0-small/train/patient58318/study1/...</td>\n",
       "      <td>0</td>\n",
       "      <td>0.0</td>\n",
       "      <td>4.0</td>\n",
       "      <td>0.0</td>\n",
       "      <td>0.123156</td>\n",
       "    </tr>\n",
       "    <tr>\n",
       "      <th>1</th>\n",
       "      <td>CheXpert-v1.0-small/train/patient22729</td>\n",
       "      <td>CheXpert-v1.0-small/train/patient22729/study1/...</td>\n",
       "      <td>1</td>\n",
       "      <td>0.0</td>\n",
       "      <td>3.0</td>\n",
       "      <td>1.0</td>\n",
       "      <td>0.086232</td>\n",
       "    </tr>\n",
       "    <tr>\n",
       "      <th>2</th>\n",
       "      <td>CheXpert-v1.0-small/train/patient13488</td>\n",
       "      <td>CheXpert-v1.0-small/train/patient13488/study1/...</td>\n",
       "      <td>1</td>\n",
       "      <td>0.0</td>\n",
       "      <td>3.0</td>\n",
       "      <td>1.0</td>\n",
       "      <td>0.066037</td>\n",
       "    </tr>\n",
       "    <tr>\n",
       "      <th>3</th>\n",
       "      <td>CheXpert-v1.0-small/train/patient05056</td>\n",
       "      <td>CheXpert-v1.0-small/train/patient05056/study15...</td>\n",
       "      <td>1</td>\n",
       "      <td>0.0</td>\n",
       "      <td>3.0</td>\n",
       "      <td>1.0</td>\n",
       "      <td>0.310323</td>\n",
       "    </tr>\n",
       "    <tr>\n",
       "      <th>4</th>\n",
       "      <td>CheXpert-v1.0-small/train/patient00480</td>\n",
       "      <td>CheXpert-v1.0-small/train/patient00480/study12...</td>\n",
       "      <td>1</td>\n",
       "      <td>0.0</td>\n",
       "      <td>3.0</td>\n",
       "      <td>1.0</td>\n",
       "      <td>0.030275</td>\n",
       "    </tr>\n",
       "  </tbody>\n",
       "</table>\n",
       "</div>"
      ],
      "text/plain": [
       "                          Patient_ID_path  \\\n",
       "0  CheXpert-v1.0-small/train/patient58318   \n",
       "1  CheXpert-v1.0-small/train/patient22729   \n",
       "2  CheXpert-v1.0-small/train/patient13488   \n",
       "3  CheXpert-v1.0-small/train/patient05056   \n",
       "4  CheXpert-v1.0-small/train/patient00480   \n",
       "\n",
       "                                                Path  Sex  Pleural Effusion  \\\n",
       "0  CheXpert-v1.0-small/train/patient58318/study1/...    0               0.0   \n",
       "1  CheXpert-v1.0-small/train/patient22729/study1/...    1               0.0   \n",
       "2  CheXpert-v1.0-small/train/patient13488/study1/...    1               0.0   \n",
       "3  CheXpert-v1.0-small/train/patient05056/study15...    1               0.0   \n",
       "4  CheXpert-v1.0-small/train/patient00480/study12...    1               0.0   \n",
       "\n",
       "   group  a_hat    y_prob  \n",
       "0    4.0    0.0  0.123156  \n",
       "1    3.0    1.0  0.086232  \n",
       "2    3.0    1.0  0.066037  \n",
       "3    3.0    1.0  0.310323  \n",
       "4    3.0    1.0  0.030275  "
      ]
     },
     "execution_count": 144,
     "metadata": {},
     "output_type": "execute_result"
    }
   ],
   "source": [
    "# Load data\n",
    "test_df = pd.read_csv('csvs/results/results_Pleural Effusion.csv',index_col=[0])\n",
    "test_df.head()"
   ]
  },
  {
   "cell_type": "code",
   "execution_count": 145,
   "metadata": {},
   "outputs": [],
   "source": [
    "# Split data into final test and val/tune data\n",
    "df, val_df = train_test_split(test_df,test_size=0.25,stratify=test_df['group'],random_state=10)"
   ]
  },
  {
   "cell_type": "code",
   "execution_count": 146,
   "metadata": {},
   "outputs": [],
   "source": [
    "# Plot ROC curve and identify best threshold for J-statistic\n",
    "y = val_df['Pleural Effusion'].values\n",
    "y_prob = val_df.y_prob.values\n",
    "tpr = []\n",
    "fpr = []\n",
    "thresholds = np.linspace(0,1,101)\n",
    "for t in thresholds:\n",
    "    y_hat = (y_prob >= t)\n",
    "    tn, fp, fn, tp = confusion_matrix(y,y_hat).ravel()\n",
    "    tpr.append(tp/(tp + fn))\n",
    "    fpr.append(fp/(fp + tn))"
   ]
  },
  {
   "cell_type": "code",
   "execution_count": 147,
   "metadata": {},
   "outputs": [
    {
     "name": "stdout",
     "output_type": "stream",
     "text": [
      "Best t =  0.46\n"
     ]
    },
    {
     "data": {
      "image/png": "[encoded data removed]",
      "text/plain": [
       "<Figure size 432x288 with 1 Axes>"
      ]
     },
     "metadata": {},
     "output_type": "display_data"
    }
   ],
   "source": [
    "# Plot ROC\n",
    "tpr = np.array(tpr)\n",
    "fpr = np.array(fpr)\n",
    "plt.plot(thresholds,tpr-fpr)\n",
    "plt.xlabel('Thresholds')\n",
    "plt.ylabel('J-statistic')\n",
    "max_index = np.argmax(tpr-fpr)\n",
    "opt_t = thresholds[max_index]\n",
    "print('Best t = ', opt_t)"
   ]
  },
  {
   "cell_type": "code",
   "execution_count": 149,
   "metadata": {},
   "outputs": [],
   "source": [
    "# Learn a fair model using val_df\n",
    "# Rename columns\n",
    "val_df = val_df.rename(columns={\"Sex\": \"a\", 'Pleural Effusion': \"y\"})\n",
    "\n",
    "# Make unfair predictions\n",
    "y = val_df.y.values\n",
    "a = val_df.a.values\n",
    "y_prob = val_df.y_prob.values.copy()\n",
    "ind_1 = np.where(a==1)\n",
    "ind_0 = np.where(a==0)\n",
    "y_prob[ind_1] = (y_prob[ind_1] >= opt_t)\n",
    "y_prob[ind_0] = (y_prob[ind_0] >= 0.2)\n",
    "val_df['y_hat'] = y_prob\n",
    "\n",
    "# Learn fair model wrt to a_hat\n",
    "val_df['a'] = val_df['a_hat']\n",
    "val_df['y_prob'] = val_df['y_hat']\n",
    "_, fair_model = eo_postprocess(val_df)"
   ]
  },
  {
   "cell_type": "code",
   "execution_count": 150,
   "metadata": {},
   "outputs": [
    {
     "data": {
      "text/html": [
       "<div>\n",
       "<style scoped>\n",
       "    .dataframe tbody tr th:only-of-type {\n",
       "        vertical-align: middle;\n",
       "    }\n",
       "\n",
       "    .dataframe tbody tr th {\n",
       "        vertical-align: top;\n",
       "    }\n",
       "\n",
       "    .dataframe thead th {\n",
       "        text-align: right;\n",
       "    }\n",
       "</style>\n",
       "<table border=\"1\" class=\"dataframe\">\n",
       "  <thead>\n",
       "    <tr style=\"text-align: right;\">\n",
       "      <th></th>\n",
       "      <th>Patient_ID_path</th>\n",
       "      <th>Path</th>\n",
       "      <th>a</th>\n",
       "      <th>y</th>\n",
       "      <th>group</th>\n",
       "      <th>a_hat</th>\n",
       "      <th>y_prob</th>\n",
       "      <th>y_hat</th>\n",
       "    </tr>\n",
       "  </thead>\n",
       "  <tbody>\n",
       "    <tr>\n",
       "      <th>4787</th>\n",
       "      <td>CheXpert-v1.0-small/train/patient24163</td>\n",
       "      <td>CheXpert-v1.0-small/train/patient24163/study69...</td>\n",
       "      <td>0</td>\n",
       "      <td>0.0</td>\n",
       "      <td>4.0</td>\n",
       "      <td>0.0</td>\n",
       "      <td>0.603124</td>\n",
       "      <td>1.0</td>\n",
       "    </tr>\n",
       "    <tr>\n",
       "      <th>49381</th>\n",
       "      <td>CheXpert-v1.0-small/train/patient20150</td>\n",
       "      <td>CheXpert-v1.0-small/train/patient20150/study1/...</td>\n",
       "      <td>1</td>\n",
       "      <td>0.0</td>\n",
       "      <td>3.0</td>\n",
       "      <td>1.0</td>\n",
       "      <td>0.005918</td>\n",
       "      <td>0.0</td>\n",
       "    </tr>\n",
       "    <tr>\n",
       "      <th>96145</th>\n",
       "      <td>CheXpert-v1.0-small/train/patient21414</td>\n",
       "      <td>CheXpert-v1.0-small/train/patient21414/study2/...</td>\n",
       "      <td>1</td>\n",
       "      <td>0.0</td>\n",
       "      <td>3.0</td>\n",
       "      <td>1.0</td>\n",
       "      <td>0.050979</td>\n",
       "      <td>0.0</td>\n",
       "    </tr>\n",
       "    <tr>\n",
       "      <th>31155</th>\n",
       "      <td>CheXpert-v1.0-small/train/patient28814</td>\n",
       "      <td>CheXpert-v1.0-small/train/patient28814/study1/...</td>\n",
       "      <td>0</td>\n",
       "      <td>0.0</td>\n",
       "      <td>4.0</td>\n",
       "      <td>0.0</td>\n",
       "      <td>0.386185</td>\n",
       "      <td>1.0</td>\n",
       "    </tr>\n",
       "    <tr>\n",
       "      <th>93339</th>\n",
       "      <td>CheXpert-v1.0-small/train/patient25905</td>\n",
       "      <td>CheXpert-v1.0-small/train/patient25905/study5/...</td>\n",
       "      <td>0</td>\n",
       "      <td>0.0</td>\n",
       "      <td>4.0</td>\n",
       "      <td>0.0</td>\n",
       "      <td>0.322366</td>\n",
       "      <td>1.0</td>\n",
       "    </tr>\n",
       "  </tbody>\n",
       "</table>\n",
       "</div>"
      ],
      "text/plain": [
       "                              Patient_ID_path  \\\n",
       "4787   CheXpert-v1.0-small/train/patient24163   \n",
       "49381  CheXpert-v1.0-small/train/patient20150   \n",
       "96145  CheXpert-v1.0-small/train/patient21414   \n",
       "31155  CheXpert-v1.0-small/train/patient28814   \n",
       "93339  CheXpert-v1.0-small/train/patient25905   \n",
       "\n",
       "                                                    Path  a    y  group  \\\n",
       "4787   CheXpert-v1.0-small/train/patient24163/study69...  0  0.0    4.0   \n",
       "49381  CheXpert-v1.0-small/train/patient20150/study1/...  1  0.0    3.0   \n",
       "96145  CheXpert-v1.0-small/train/patient21414/study2/...  1  0.0    3.0   \n",
       "31155  CheXpert-v1.0-small/train/patient28814/study1/...  0  0.0    4.0   \n",
       "93339  CheXpert-v1.0-small/train/patient25905/study5/...  0  0.0    4.0   \n",
       "\n",
       "       a_hat    y_prob  y_hat  \n",
       "4787     0.0  0.603124    1.0  \n",
       "49381    1.0  0.005918    0.0  \n",
       "96145    1.0  0.050979    0.0  \n",
       "31155    0.0  0.386185    1.0  \n",
       "93339    0.0  0.322366    1.0  "
      ]
     },
     "execution_count": 150,
     "metadata": {},
     "output_type": "execute_result"
    }
   ],
   "source": [
    "# Rename columns\n",
    "df = df.rename(columns={\"Sex\": \"a\", 'Pleural Effusion': \"y\"})\n",
    "\n",
    "# Make unfair predictions\n",
    "y = df.y.values\n",
    "a = df.a.values\n",
    "y_prob = df.y_prob.values.copy()\n",
    "ind_1 = np.where(a==1)\n",
    "ind_0 = np.where(a==0)\n",
    "y_prob[ind_1] = (y_prob[ind_1] >= opt_t)\n",
    "y_prob[ind_0] = (y_prob[ind_0] >= 0.2)\n",
    "df['y_hat'] = y_prob\n",
    "# df['y_hat'] = (df.y_prob.values >= opt_t).astype('float')\n",
    "df.head()"
   ]
  },
  {
   "cell_type": "code",
   "execution_count": 151,
   "metadata": {},
   "outputs": [
    {
     "name": "stderr",
     "output_type": "stream",
     "text": [
      "100%|██████████| 10/10 [00:06<00:00,  1.65it/s]\n"
     ]
    }
   ],
   "source": [
    "B = 10\n",
    "error = []\n",
    "bias_tpr = []\n",
    "upper_bound = []\n",
    "lower_bound = []\n",
    "post_bias_tpr = []\n",
    "post_upper_bound = []\n",
    "post_lower_bound = []\n",
    "fair_model = fair_model\n",
    "for i in tqdm(range(B)):\n",
    "    # Bootstrapping\n",
    "    df_sample = df.sample(n=len(df),replace=True)\n",
    "\n",
    "    # Calculate true bias_tpr\n",
    "    alpha,beta,tau,phi = calculate_bias_metrics(df_sample)\n",
    "    bias_tpr.append(alpha-beta)\n",
    "\n",
    "    # Calculate upper and lower bounds \n",
    "    df_a_hat = df_sample.copy(deep=True)\n",
    "    # Calculate bootstrapped base rates and error U \n",
    "    y = df_a_hat.y.values\n",
    "    a = df_a_hat.a.values\n",
    "    rates  = get_base_rates(y,a,return_dict=False)\n",
    "    r = rates['r']\n",
    "    s = rates['s']\n",
    "    U = np.sum(df_a_hat.a.values != df_a_hat.a_hat.values)/len(df_a_hat)\n",
    "    error.append(U)\n",
    "    # U = 0.01\n",
    "    # Let a_hat \"be\" a\n",
    "    df_a_hat['a'] = df_a_hat['a_hat']\n",
    "    df_a_hat['y_prob'] = df['y_hat']\n",
    "    alpha_hat,beta_hat,tau_hat,phi_hat = calculate_bias_metrics(df_a_hat)\n",
    "    ub, lb = calc_gen_bounds(alpha_hat,beta_hat,U,r,s)\n",
    "    upper_bound.append(ub)\n",
    "    lower_bound.append(lb)\n",
    "    \n",
    "    # Post process\n",
    "    # _, fair_model = eo_postprocess(df_a_hat)\n",
    "    y_fair = fair_model.predict(df_a_hat.y_hat.values,df_a_hat.a.values)\n",
    "    df_fair = df_a_hat.copy(deep=True)\n",
    "    df_fair['y_hat'] = y_fair\n",
    "\n",
    "    # Calculate post bias_tpr\n",
    "    alpha,beta,tau,phi = calculate_bias_metrics(df_fair)\n",
    "    post_bias_tpr.append(alpha-beta)\n",
    "    ub, lb = calc_gen_bounds(alpha,beta,U,r,s)\n",
    "    post_upper_bound.append(ub)\n",
    "    post_lower_bound.append(lb)"
   ]
  },
  {
   "cell_type": "code",
   "execution_count": 152,
   "metadata": {},
   "outputs": [
    {
     "data": {
      "text/plain": [
       "{'r': 0.2336081664703573,\n",
       " 's': 0.16865157265628408,\n",
       " 'v': 0.3501723160144833,\n",
       " 'w': 0.24756794485887537}"
      ]
     },
     "execution_count": 152,
     "metadata": {},
     "output_type": "execute_result"
    }
   ],
   "source": [
    "rates"
   ]
  },
  {
   "cell_type": "code",
   "execution_count": 154,
   "metadata": {},
   "outputs": [
    {
     "data": {
      "text/plain": [
       "<matplotlib.legend.Legend at 0x7effff127f40>"
      ]
     },
     "execution_count": 154,
     "metadata": {},
     "output_type": "execute_result"
    },
    {
     "data": {
      "image/png": "[encoded data removed]",
      "text/plain": [
       "<Figure size 432x288 with 1 Axes>"
      ]
     },
     "metadata": {},
     "output_type": "display_data"
    }
   ],
   "source": [
    "max_bound_pre = np.maximum(np.abs(upper_bound),np.abs(lower_bound))\n",
    "max_bound_post = np.maximum(np.abs(post_upper_bound),np.abs(post_lower_bound))\n",
    "sns.kdeplot(max_bound_pre,shade=True,cut=0,label = '$TPR_{m}$',color='blue')\n",
    "sns.kdeplot(np.abs(bias_tpr),shade=True,cut=0,label = r'$|bias_{TPR}(f)|$', color = 'black')\n",
    "sns.kdeplot(max_bound_post,shade=True,cut=0,label = r'$\\widetilde{TPR}_{m}$', color = 'blue',linestyle = '--')\n",
    "sns.kdeplot(np.abs(post_bias_tpr),shade=True,cut=0,label = r'$|bias_{TPR}(\\tilde{f})|$',color='black', linestyle = '--')\n",
    "plt.ylim([0,150])\n",
    "plt.legend()"
   ]
  }
 ],
 "metadata": {
  "kernelspec": {
   "display_name": "Python 3.10.4 ('cuda102')",
   "language": "python",
   "name": "python3"
  },
  "language_info": {
   "codemirror_mode": {
    "name": "ipython",
    "version": 3
   },
   "file_extension": ".py",
   "mimetype": "text/x-python",
   "name": "python",
   "nbconvert_exporter": "python",
   "pygments_lexer": "ipython3",
   "version": "3.10.4"
  },
  "orig_nbformat": 4,
  "vscode": {
   "interpreter": {
    "hash": "3480f17d4fb79fd692b6ed7a9ca0948306936357486d7718056d429d227b38c3"
   }
  }
 },
 "nbformat": 4,
 "nbformat_minor": 2
}
